{
 "cells": [
  {
   "cell_type": "markdown",
   "metadata": {},
   "source": [
    "Việc sử xử lí file là công việc không thể thiếu mọi project để của data scientist hay researcher.Dưới đây là một số kĩ thuật xử lí file thông thường trong một project nào ta cũng có thể áp dụng."
   ]
  },
  {
   "cell_type": "markdown",
   "metadata": {},
   "source": [
    "<h1>Reading File (Đọc File) </h1>"
   ]
  },
  {
   "cell_type": "markdown",
   "metadata": {},
   "source": [
    "Đầu tiên để bắt đầu ví dụ đọc file , chúng ta cần tạo ra một file bắt kì , trong ví dụ này sẽ tạo một file 'hello_world.txt' và nội dung trong file sẽ được in ra:"
   ]
  },
  {
   "cell_type": "code",
   "execution_count": 6,
   "metadata": {},
   "outputs": [
    {
     "name": "stdout",
     "output_type": "stream",
     "text": [
      "Hello everyone.\n",
      "How are you today ?\n",
      "Do you hungry ?\n"
     ]
    }
   ],
   "source": [
    "filepath = './hello_world.txt'\n",
    "filehandle = open(filepath,'r') \n",
    "data = filehandle.read()\n",
    "print(data)\n",
    "filehandle.close()"
   ]
  },
  {
   "cell_type": "markdown",
   "metadata": {},
   "source": [
    "Trong python cung cấp một hàm open có 2 tham số , tham số đầu chỉ rõ đường dẫn file ,tham số thứ 2 thao tác cần handle .Trong ví dụ trên tham số thứ 2 là  <b>r</b>  tức là read (đọc) ví thế biến filehandle sẽ có nhiệm vụ thực thư việc đọc ở trong đường dẫn được trỏ tham số đầu ."
   ]
  },
  {
   "cell_type": "markdown",
   "metadata": {},
   "source": [
    "<h1>Writing File (Ghi File)</h1>"
   ]
  },
  {
   "cell_type": "markdown",
   "metadata": {},
   "source": [
    "Dưới đây là một cách đọc file thông thường và đơn giản .Đặc biệt khi đọc file, không nhất file được đọc đã xuất hiện trước đó."
   ]
  },
  {
   "cell_type": "code",
   "execution_count": 17,
   "metadata": {},
   "outputs": [],
   "source": [
    "writingtext =\"Can we still be friends?\"\n",
    "filepath = 'test_writing_file_example.txt'\n",
    "filehandle = open(filepath,'w') \n",
    "data = filehandle.write(writingtext)\n",
    "filehandle.close()"
   ]
  },
  {
   "cell_type": "markdown",
   "metadata": {},
   "source": [
    "Cũng giống như ví dụ Reading File trước đó tham số thứ 2 của hàm open hiện giờ là <b>w</b> tức là write (viết).Cần lưu ý khi sử dụng việc đọc file này,mặc dù không cần phải khởi tạo file khi đọc nhưng trường hợp nếu file đã xuất hiện thì file sau khi ghi sẽ save lại kết quả hiện tại và không viết nối tiếp kết quả trước đó.Nếu rơi trường hợp muốn ghi tiếp tục file và lưu kết quả trước đó chỉ cần thay đổi tham số thứ 2 thành <b>a</b> tức là append (thêm)."
   ]
  },
  {
   "cell_type": "markdown",
   "metadata": {},
   "source": [
    "<h1>Một số hàm đọc và ghi file thông thường:</h1>"
   ]
  },
  {
   "cell_type": "code",
   "execution_count": 18,
   "metadata": {},
   "outputs": [],
   "source": [
    "import os\n",
    "\n",
    "def fileExists(filePath): #kiểm tra file đó có tồn tại hay không\n",
    "    exists = os.path.exists(filePath)\n",
    "    return exists\n",
    "\n",
    "def writeFile(filePath, textToWrite):#Ghi file\n",
    "    fileHandle = open(filePath, 'w')\n",
    "    fileHandle.write(textToWrite)\n",
    "    fileHandle.close()\n",
    "\n",
    "def readFile(filePath): #đọc file\n",
    "    if not fileExists(filePath):\n",
    "        print('The file, ' + filePath + ' does not exist - cannot read it.')\n",
    "        return ''\n",
    "\n",
    "    fileHandle = open(filePath, 'r')\n",
    "    data = fileHandle.read()\n",
    "    fileHandle.close()\n",
    "    return data        "
   ]
  },
  {
   "cell_type": "markdown",
   "metadata": {},
   "source": [
    "Ở đoạn code trên sử dụng một package trong python là <b>os</b>.Package này support một số hàm rất hữu ích,bạn đọc có thể tìm hiểu tại đây: </p> https://docs.python.org/2/library/os.html"
   ]
  },
  {
   "cell_type": "markdown",
   "metadata": {},
   "source": [
    "<h1>Join function</h1>"
   ]
  },
  {
   "cell_type": "markdown",
   "metadata": {},
   "source": [
    "Để bắt đầu tìm hiểu về hàm Join trong python"
   ]
  }
 ],
 "metadata": {
  "kernelspec": {
   "display_name": "Python 3",
   "language": "python",
   "name": "python3"
  },
  "language_info": {
   "codemirror_mode": {
    "name": "ipython",
    "version": 3
   },
   "file_extension": ".py",
   "mimetype": "text/x-python",
   "name": "python",
   "nbconvert_exporter": "python",
   "pygments_lexer": "ipython3",
   "version": "3.5.6"
  }
 },
 "nbformat": 4,
 "nbformat_minor": 2
}

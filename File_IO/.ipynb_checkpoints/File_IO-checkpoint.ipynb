{
 "cells": [
  {
   "cell_type": "markdown",
   "metadata": {},
   "source": [
    "Việc sử xử lí file là công việc không thể thiếu mọi project để của data scientist hay researcher.Dưới đây là một số kĩ thuật xử lí file thông thường trong một project nào ta cũng có thể áp dụng."
   ]
  },
  {
   "cell_type": "markdown",
   "metadata": {},
   "source": [
    "<h1>Reading File (Đọc File) </h1>"
   ]
  },
  {
   "cell_type": "markdown",
   "metadata": {},
   "source": [
    "Đầu tiên để bắt đầu ví dụ đọc file , chúng ta cần tạo ra một file bắt kì , trong ví dụ này sẽ tạo một file 'hello_world.txt' và nội dung trong file sẽ được in ra:"
   ]
  },
  {
   "cell_type": "code",
   "execution_count": 11,
   "metadata": {},
   "outputs": [
    {
     "name": "stdout",
     "output_type": "stream",
     "text": [
      "Hello everyone.\n",
      "How are you today ?\n",
      "Do you hungry ?\n"
     ]
    }
   ],
   "source": [
    "filepath = './hello_world.txt'\n",
    "filehandle = open(filepath,'r') \n",
    "data = filehandle.read()\n",
    "print(data)\n",
    "filehandle.close()"
   ]
  },
  {
   "cell_type": "markdown",
   "metadata": {},
   "source": [
    "Trong python cung cấp một hàm open có 2 tham số , tham số đầu chỉ rõ đường dẫn file ,tham số thứ 2 thao tác cần handle .Trong ví dụ trên tham số thứ 2 là  <b>r</b>  tức là read (đọc) ví thế biến filehandle sẽ có nhiệm vụ thực thư việc đọc ở trong đường dẫn được trỏ tham số đầu ."
   ]
  },
  {
   "cell_type": "markdown",
   "metadata": {},
   "source": [
    "<h1>Writing File (Ghi File)</h1>"
   ]
  },
  {
   "cell_type": "markdown",
   "metadata": {},
   "source": [
    "Dưới đây là một cách đọc file thông thường và đơn giản .Đặc biệt khi đọc file, không nhất file được đọc đã xuất hiện trước đó."
   ]
  },
  {
   "cell_type": "code",
   "execution_count": 17,
   "metadata": {},
   "outputs": [],
   "source": [
    "writingtext =\"Can we still be friends?\"\n",
    "filepath = 'test_writing_file_example.txt'\n",
    "filehandle = open(filepath,'w') \n",
    "data = filehandle.write(writingtext)\n",
    "filehandle.close()"
   ]
  },
  {
   "cell_type": "markdown",
   "metadata": {},
   "source": [
    "Cũng giống như ví dụ Reading File trước đó tham số thứ 2 của hàm open hiện giờ là <b>w</b> tức là write (viết).Cần lưu ý khi sử dụng việc đọc file này,mặc dù không cần phải khởi tạo file khi đọc nhưng trường hợp nếu file đã xuất hiện thì file sau khi ghi sẽ save lại kết quả hiện tại và không viết nối tiếp kết quả trước đó.Nếu rơi trường hợp muốn ghi tiếp tục file và lưu kết quả trước đó chỉ cần thay đổi tham số thứ 2 thành <b>a</b> tức là append (thêm)."
   ]
  },
  {
   "cell_type": "markdown",
   "metadata": {},
   "source": [
    "<h1>Một số hàm đọc và ghi file thông thường:</h1>"
   ]
  },
  {
   "cell_type": "code",
   "execution_count": 18,
   "metadata": {},
   "outputs": [],
   "source": [
    "import os\n",
    "\n",
    "def fileExists(filePath): #kiểm tra file đó có tồn tại hay không\n",
    "    exists = os.path.exists(filePath)\n",
    "    return exists\n",
    "\n",
    "def writeFile(filePath, textToWrite):#Ghi file\n",
    "    fileHandle = open(filePath, 'w')\n",
    "    fileHandle.write(textToWrite)\n",
    "    fileHandle.close()\n",
    "\n",
    "def readFile(filePath): #đọc file\n",
    "    if not fileExists(filePath):\n",
    "        print('The file, ' + filePath + ' does not exist - cannot read it.')\n",
    "        return ''\n",
    "\n",
    "    fileHandle = open(filePath, 'r')\n",
    "    data = fileHandle.read()\n",
    "    fileHandle.close()\n",
    "    return data        "
   ]
  },
  {
   "cell_type": "markdown",
   "metadata": {},
   "source": [
    "Ở đoạn code trên sử dụng một package trong python là <b>os</b>.Package này support một số hàm rất hữu ích,bạn đọc có thể tìm hiểu tại đây: </p> https://docs.python.org/2/library/os.html"
   ]
  },
  {
   "cell_type": "markdown",
   "metadata": {},
   "source": [
    "Trong việc đọc và ghi file kĩ thuật quan trọng nhất là xử lí string (chuỗi) sẽ giúp công việc hiệu quả.Dưới đây là một số hàm giúp ích cho việc xử lí chuỗi được tốt hơn."
   ]
  },
  {
   "cell_type": "markdown",
   "metadata": {},
   "source": [
    "<h1>The Split Function</h1>"
   ]
  },
  {
   "cell_type": "markdown",
   "metadata": {},
   "source": [
    "Đầu tiên ta sẽ đưa ra một tình huống như sau. Bạn là một data scientist và nhận được một file cần dữ liệu cần được xử lí.File đó chưa thông tin học sinh.Trong đó bao gỗm những thông tin là :Mã số ,tên học sinh , ngày tháng năm sinh.Nhiệm vụ của bạn xuát ra tên học sinh.Dưới đây là đinh dạng dữ liệu ở file đó.<p>\n",
    "Ví dụ :</p>\n",
    "001,john,12-06-1999<p>\n",
    "002,lena,13-07-1999<p>\n",
    "003,adam,11-11-1998<p>\n",
    "Đa phần ở định dạng như trên thường được thấy khi ta thu nhập dữ liệu hoặc tham gia các bài toán của kaggle.Ví dụ trên mỗi thuộc tính được ngăn cách bởi mỗi dấu phẩy ','.Việc xử lí nếu duyệt qua mỗi chuỗi rồi đếm dấu phẩy là phương pháp không hiểu quả.Trong python, có một hàm xử lí việc này hiệu quả là hàm <b>split</b>:"
   ]
  },
  {
   "cell_type": "code",
   "execution_count": 2,
   "metadata": {},
   "outputs": [
    {
     "name": "stdout",
     "output_type": "stream",
     "text": [
      "john\n"
     ]
    }
   ],
   "source": [
    "st = '001,john,12-06-1999'\n",
    "infor = st.split(',')# vì một thuộc tính cách nhau 1 dấu ',' nên hàm split chuyển về một mảng với mỗi index tương ứng như thứ tự yêu cầu cho \n",
    "print(infor[1])# ở đây tên của học sinh ở cột thứ 2 tương ứng trong python index là 1."
   ]
  },
  {
   "cell_type": "markdown",
   "metadata": {},
   "source": [
    "<h1>The Join Function</h1>"
   ]
  },
  {
   "cell_type": "markdown",
   "metadata": {},
   "source": [
    "Hàm <b>Join</b> giúp cho việc ghi dữ liệu có format như trên (mỗi thuộc tính được ngăn cách nhau một kí hiệu được quy định trước).Dữ liệu sau khi thu thập để ghi vào file là phải một kiểu chuỗi.Vì vậy khi chuyển các thuộc tính và viết ngăn cách nhau một kí hiệu bắt kì cần phải chuyển tất cả về kiểu dữ liệu chuỗi."
   ]
  },
  {
   "cell_type": "code",
   "execution_count": 4,
   "metadata": {},
   "outputs": [
    {
     "name": "stdout",
     "output_type": "stream",
     "text": [
      "001,john,12-06-1999\n"
     ]
    }
   ],
   "source": [
    "infor = ['001','john','12-06-1999']\n",
    "st = (',').join(infor)\n",
    "print(st)"
   ]
  },
  {
   "cell_type": "markdown",
   "metadata": {},
   "source": [
    "<h1>Bài tập thực hành</h1>"
   ]
  },
  {
   "cell_type": "markdown",
   "metadata": {},
   "source": [
    "Trong bài thực hành này chúng ta sẽ thao tác trên một dataset khá nổi tiếng là <b>Iris</b> và sẽ áp dụng các kiến thức trên để xử lí đọc ghi file.Dưới đây là dữ liệu của Iris"
   ]
  },
  {
   "cell_type": "markdown",
   "metadata": {},
   "source": [
    "\n",
    "<img src='dataset.PNG'>"
   ]
  },
  {
   "cell_type": "markdown",
   "metadata": {},
   "source": [
    "Ở dòng đầu tiên của tập dữ liệu là header hay đặc trưng ở mỗi cột.Cột đầu tiên là chiều dài (length),chiều rộng (width),nhãn(label)."
   ]
  },
  {
   "cell_type": "code",
   "execution_count": 17,
   "metadata": {},
   "outputs": [
    {
     "name": "stdout",
     "output_type": "stream",
     "text": [
      "[1.4, 0.2, 0.0]\n",
      "[1.4, 0.2, 0.0]\n",
      "[1.3, 0.2, 0.0]\n",
      "[1.5, 0.2, 0.0]\n",
      "[1.4, 0.2, 0.0]\n",
      "[1.7, 0.4, 0.0]\n",
      "[1.4, 0.3, 0.0]\n",
      "[1.5, 0.2, 0.0]\n",
      "[1.4, 0.2, 0.0]\n",
      "[1.5, 0.1, 0.0]\n",
      "[1.5, 0.2, 0.0]\n",
      "[1.6, 0.2, 0.0]\n",
      "[1.4, 0.1, 0.0]\n",
      "[1.1, 0.1, 0.0]\n",
      "[1.2, 0.2, 0.0]\n",
      "[1.5, 0.4, 0.0]\n",
      "[1.3, 0.4, 0.0]\n",
      "[1.4, 0.3, 0.0]\n",
      "[1.7, 0.3, 0.0]\n",
      "[1.5, 0.3, 0.0]\n",
      "[1.7, 0.2, 0.0]\n",
      "[1.5, 0.4, 0.0]\n",
      "[1.0, 0.2, 0.0]\n",
      "[1.7, 0.5, 0.0]\n",
      "[1.9, 0.2, 0.0]\n",
      "[1.6, 0.2, 0.0]\n",
      "[1.6, 0.4, 0.0]\n",
      "[1.5, 0.2, 0.0]\n",
      "[1.4, 0.2, 0.0]\n",
      "[1.6, 0.2, 0.0]\n",
      "[1.6, 0.2, 0.0]\n",
      "[1.5, 0.4, 0.0]\n",
      "[1.5, 0.1, 0.0]\n",
      "[1.4, 0.2, 0.0]\n",
      "[1.5, 0.1, 0.0]\n",
      "[1.2, 0.2, 0.0]\n",
      "[1.3, 0.2, 0.0]\n",
      "[1.5, 0.1, 0.0]\n",
      "[1.3, 0.2, 0.0]\n",
      "[1.5, 0.2, 0.0]\n",
      "[1.3, 0.3, 0.0]\n",
      "[1.3, 0.3, 0.0]\n",
      "[1.3, 0.2, 0.0]\n",
      "[1.6, 0.6, 0.0]\n",
      "[1.9, 0.4, 0.0]\n",
      "[1.4, 0.3, 0.0]\n",
      "[1.6, 0.2, 0.0]\n",
      "[1.4, 0.2, 0.0]\n",
      "[1.5, 0.2, 0.0]\n",
      "[1.4, 0.2, 0.0]\n",
      "[4.7, 1.4, 1.0]\n",
      "[4.5, 1.5, 1.0]\n",
      "[4.9, 1.5, 1.0]\n",
      "[4.0, 1.3, 1.0]\n",
      "[4.6, 1.5, 1.0]\n",
      "[4.5, 1.3, 1.0]\n",
      "[4.7, 1.6, 1.0]\n",
      "[3.3, 1.0, 1.0]\n",
      "[4.6, 1.3, 1.0]\n",
      "[3.9, 1.4, 1.0]\n",
      "[3.5, 1.0, 1.0]\n",
      "[4.2, 1.5, 1.0]\n",
      "[4.0, 1.0, 1.0]\n",
      "[4.7, 1.4, 1.0]\n",
      "[3.6, 1.3, 1.0]\n",
      "[4.4, 1.4, 1.0]\n",
      "[4.5, 1.5, 1.0]\n",
      "[4.1, 1.0, 1.0]\n",
      "[4.5, 1.5, 1.0]\n",
      "[3.9, 1.1, 1.0]\n",
      "[4.8, 1.8, 1.0]\n",
      "[4.0, 1.3, 1.0]\n",
      "[4.9, 1.5, 1.0]\n",
      "[4.7, 1.2, 1.0]\n",
      "[4.3, 1.3, 1.0]\n",
      "[4.4, 1.4, 1.0]\n",
      "[4.8, 1.4, 1.0]\n",
      "[5.0, 1.7, 1.0]\n",
      "[4.5, 1.5, 1.0]\n",
      "[3.5, 1.0, 1.0]\n",
      "[3.8, 1.1, 1.0]\n",
      "[3.7, 1.0, 1.0]\n",
      "[3.9, 1.2, 1.0]\n",
      "[5.1, 1.6, 1.0]\n",
      "[4.5, 1.5, 1.0]\n",
      "[4.5, 1.6, 1.0]\n",
      "[4.7, 1.5, 1.0]\n",
      "[4.4, 1.3, 1.0]\n",
      "[4.1, 1.3, 1.0]\n",
      "[4.0, 1.3, 1.0]\n",
      "[4.4, 1.2, 1.0]\n",
      "[4.6, 1.4, 1.0]\n",
      "[4.0, 1.2, 1.0]\n",
      "[3.3, 1.0, 1.0]\n",
      "[4.2, 1.3, 1.0]\n",
      "[4.2, 1.2, 1.0]\n",
      "[4.2, 1.3, 1.0]\n",
      "[4.3, 1.3, 1.0]\n",
      "[3.0, 1.1, 1.0]\n",
      "[4.1, 1.3, 1.0]\n",
      "[6.0, 2.5, 2.0]\n",
      "[5.1, 1.9, 2.0]\n",
      "[5.9, 2.1, 2.0]\n",
      "[5.6, 1.8, 2.0]\n",
      "[5.8, 2.2, 2.0]\n",
      "[6.6, 2.1, 2.0]\n",
      "[4.5, 1.7, 2.0]\n",
      "[6.3, 1.8, 2.0]\n",
      "[5.8, 1.8, 2.0]\n",
      "[6.1, 2.5, 2.0]\n",
      "[5.1, 2.0, 2.0]\n",
      "[5.3, 1.9, 2.0]\n",
      "[5.5, 2.1, 2.0]\n",
      "[5.0, 2.0, 2.0]\n",
      "[5.1, 2.4, 2.0]\n",
      "[5.3, 2.3, 2.0]\n",
      "[5.5, 1.8, 2.0]\n",
      "[6.7, 2.2, 2.0]\n",
      "[6.9, 2.3, 2.0]\n",
      "[5.0, 1.5, 2.0]\n",
      "[5.7, 2.3, 2.0]\n",
      "[4.9, 2.0, 2.0]\n",
      "[6.7, 2.0, 2.0]\n",
      "[4.9, 1.8, 2.0]\n",
      "[5.7, 2.1, 2.0]\n",
      "[6.0, 1.8, 2.0]\n",
      "[4.8, 1.8, 2.0]\n",
      "[4.9, 1.8, 2.0]\n",
      "[5.6, 2.1, 2.0]\n",
      "[5.8, 1.6, 2.0]\n",
      "[6.1, 1.9, 2.0]\n",
      "[6.4, 2.0, 2.0]\n",
      "[5.6, 2.2, 2.0]\n",
      "[5.1, 1.5, 2.0]\n",
      "[5.6, 1.4, 2.0]\n",
      "[6.1, 2.3, 2.0]\n",
      "[5.6, 2.4, 2.0]\n",
      "[5.5, 1.8, 2.0]\n",
      "[4.8, 1.8, 2.0]\n",
      "[5.4, 2.1, 2.0]\n",
      "[5.6, 2.4, 2.0]\n",
      "[5.1, 2.3, 2.0]\n",
      "[5.1, 1.9, 2.0]\n",
      "[5.9, 2.3, 2.0]\n",
      "[5.7, 2.5, 2.0]\n",
      "[5.2, 2.3, 2.0]\n",
      "[5.0, 1.9, 2.0]\n",
      "[5.2, 2.0, 2.0]\n",
      "[5.4, 2.3, 2.0]\n",
      "[5.1, 1.8, 2.0]\n"
     ]
    }
   ],
   "source": [
    "file = open('iris_Petal.csv','r')\n",
    "file = file.readlines() # readlines giúp việc đọc file theo từng dòng , mỗi dòng là 1 chuỗi\n",
    "data = []\n",
    "for it in range(1,len(file)):#để bỏ qua phần header nên ta bắt đầu từ 1 \n",
    "    string  = file[it].split(',')\n",
    "    data.append([float(string[0]),float(string[1]),float(string[2])])\n",
    "for it in data:\n",
    "    print(it)"
   ]
  },
  {
   "cell_type": "code",
   "execution_count": null,
   "metadata": {},
   "outputs": [],
   "source": []
  },
  {
   "cell_type": "code",
   "execution_count": null,
   "metadata": {},
   "outputs": [],
   "source": []
  },
  {
   "cell_type": "code",
   "execution_count": null,
   "metadata": {},
   "outputs": [],
   "source": []
  }
 ],
 "metadata": {
  "kernelspec": {
   "display_name": "Python 3",
   "language": "python",
   "name": "python3"
  },
  "language_info": {
   "codemirror_mode": {
    "name": "ipython",
    "version": 3
   },
   "file_extension": ".py",
   "mimetype": "text/x-python",
   "name": "python",
   "nbconvert_exporter": "python",
   "pygments_lexer": "ipython3",
   "version": "3.5.2"
  }
 },
 "nbformat": 4,
 "nbformat_minor": 2
}
